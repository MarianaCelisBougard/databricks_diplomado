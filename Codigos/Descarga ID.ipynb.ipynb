{
 "cells": [
  {
   "cell_type": "code",
   "execution_count": 0,
   "metadata": {
    "application/vnd.databricks.v1+cell": {
     "cellMetadata": {
      "byteLimit": 2048000,
      "rowLimit": 10000
     },
     "inputWidgets": {},
     "nuid": "7438cc73-6f53-4256-97a1-ddb611183376",
     "showTitle": false,
     "tableResultSettingsMap": {},
     "title": ""
    }
   },
   "outputs": [],
   "source": [
    "from sodapy import Socrata\n",
    "\n",
    "#client = Socrata(\"www.datos.gov.co\", None)\n",
    "#client = Socrata(\"www.datos.gov.co\", None)\n",
    "token = dbutils.widgets.get(\"token_app\")\n",
    "codigo_dataset = dbutils.widgets.get(\"codigo_dataset\")\n",
    "\n",
    "client = Socrata(\"www.datos.gov.co\",token)"
   ]
  },
  {
   "cell_type": "code",
   "execution_count": 0,
   "metadata": {
    "application/vnd.databricks.v1+cell": {
     "cellMetadata": {
      "byteLimit": 2048000,
      "rowLimit": 10000
     },
     "inputWidgets": {},
     "nuid": "d27dde1e-5900-44e1-b1a5-0d578b7c4ea1",
     "showTitle": false,
     "tableResultSettingsMap": {},
     "title": ""
    }
   },
   "outputs": [],
   "source": [
    "import time\n",
    "# 3. Parámetros de paginación\n",
    "limit = 500000\n",
    "offset = 0\n",
    "write_mode = \"overwrite\"\n",
    "reintentos=5\n",
    "\n",
    "print(f\"Iniciando carga por lotes para el dataset: {codigo_dataset}\")\n",
    "\n",
    "# 4. Bucle para obtener y cargar los datos por lotes\n",
    "while True:\n",
    "    intentos = 0\n",
    "\n",
    "    while intentos < reintentos:\n",
    "        try:\n",
    "            print(f\"Obteniendo y cargando lote {offset}...\")\n",
    "            # Construye y ejecuta la consulta para el lote actual\n",
    "            query = f\"SELECT numero_del_contrato, numero_de_proceso, nit_de_la_entidad, documento_proveedor, estado_del_proceso LIMIT {limit} OFFSET {offset}\"\n",
    "            results = client.get(codigo_dataset, query=query,timeout=1000)\n",
    "\n",
    "            # Si la API no devuelve más registros, se termina el bucle\n",
    "            if not results:\n",
    "                print(\"Carga de datos finalizada.\")\n",
    "                break\n",
    "\n",
    "            # Convierte el lote a un DataFrame de Spark y lo escribe en la tabla Delta\n",
    "            spark.createDataFrame(results).write \\\n",
    "                .format(\"delta\") \\\n",
    "                .mode(write_mode) \\\n",
    "                .option(\"overwriteSchema\", \"true\") \\\n",
    "                .saveAsTable(\"main.diplomado_datos.ids_contratos_procesos\")\n",
    "\n",
    "            print(f\"Lote de {len(results)} registros desde offset {offset} cargado.\")\n",
    "\n",
    "            # Se cambia a modo 'append' para las siguientes iteraciones y se incrementa el offset\n",
    "            write_mode = \"append\"\n",
    "            offset += limit\n",
    "            break\n",
    "\n",
    "        except Exception as e:\n",
    "            intentos +=1\n",
    "            print(\"Error al obtener o cargar el lote:\", e)\n",
    "            print(f\"Intento {intentos} de {reintentos}...\")\n",
    "            time.sleep(40)\n",
    "    else:\n",
    "        print(\"Se alcanzó el número máximo de intentos. Terminando la carga.\")\n",
    "        break"
   ]
  },
  {
   "cell_type": "code",
   "execution_count": 0,
   "metadata": {
    "application/vnd.databricks.v1+cell": {
     "cellMetadata": {
      "byteLimit": 2048000,
      "rowLimit": 10000
     },
     "inputWidgets": {},
     "nuid": "57a5d833-22eb-448d-b79f-a54db0d42e00",
     "showTitle": false,
     "tableResultSettingsMap": {},
     "title": ""
    }
   },
   "outputs": [],
   "source": [
    "df_secop_id=spark.table(\"main.diplomado_datos.ids_contratos_procesos\")\n",
    "df_secop_id.count()"
   ]
  },
  {
   "cell_type": "code",
   "execution_count": 0,
   "metadata": {
    "application/vnd.databricks.v1+cell": {
     "cellMetadata": {
      "byteLimit": 2048000,
      "rowLimit": 10000
     },
     "inputWidgets": {},
     "nuid": "40a0fa1c-1fe5-417f-a0af-4af31e39eb6c",
     "showTitle": false,
     "tableResultSettingsMap": {},
     "title": ""
    }
   },
   "outputs": [],
   "source": [
    "# Importar las funciones necesarias de PySpark\n",
    "from pyspark.sql.functions import sha2, concat_ws, col\n",
    "\n",
    "# 1. Cargar la tabla correcta desde el catálogo a un DataFrame\n",
    "# Se asume que esta es la tabla que contiene las columnas que mencionaste.\n",
    "df_secop_id = spark.table(\"main.diplomado_datos.ids_contratos_procesos\")\n",
    "\n",
    "# 2. Definir la lista corregida de columnas para el identificador único\n",
    "columnas_para_hash = [\n",
    "    \"numero_del_contrato\",\n",
    "    \"numero_de_proceso\",\n",
    "    \"nit_de_la_entidad\",\n",
    "    \"documento_proveedor\",\n",
    "    \"estado_del_proceso\"\n",
    "]\n",
    "\n"
   ]
  },
  {
   "cell_type": "code",
   "execution_count": 0,
   "metadata": {
    "application/vnd.databricks.v1+cell": {
     "cellMetadata": {
      "byteLimit": 2048000,
      "rowLimit": 10000
     },
     "inputWidgets": {},
     "nuid": "55143dbe-6ade-42ee-a534-8235581b4365",
     "showTitle": false,
     "tableResultSettingsMap": {},
     "title": ""
    }
   },
   "outputs": [],
   "source": [
    "# 3. Añadir la nueva columna 'id_unico'\n",
    "# Se concatenan las columnas clave con un separador y se les aplica un hash SHA-2.\n",
    "df_con_id = df_secop_id.withColumn(\n",
    "    \"id_unico_con_estado\",\n",
    "    sha2(concat_ws(\"||\", *[col(c) for c in columnas_para_hash]), 256)\n",
    ")\n",
    "\n",
    "columnas_para_hash_se = [\n",
    "    \"numero_del_contrato\",\n",
    "    \"numero_de_proceso\",\n",
    "    \"nit_de_la_entidad\",\n",
    "    \"documento_proveedor\"\n",
    "]\n",
    "df_con_id = df_con_id.withColumn(\n",
    "    \"id_unico_sin_estado\",\n",
    "    sha2(concat_ws(\"||\", *[col(c) for c in columnas_para_hash_se]), 256)\n",
    ")\n",
    "df_con_id.display()"
   ]
  },
  {
   "cell_type": "code",
   "execution_count": 0,
   "metadata": {
    "application/vnd.databricks.v1+cell": {
     "cellMetadata": {},
     "inputWidgets": {},
     "nuid": "b87304dc-f1da-420c-89dd-74204d3756f6",
     "showTitle": false,
     "tableResultSettingsMap": {},
     "title": ""
    }
   },
   "outputs": [],
   "source": [
    "df_con_id.write \\\n",
    "    .format(\"delta\") \\\n",
    "    .mode(\"overwrite\") \\\n",
    "    .option(\"overwriteSchema\", \"true\") \\\n",
    "    .saveAsTable(\"diplomado_datos.secop_id_bronze\")"
   ]
  }
 ],
 "metadata": {
  "application/vnd.databricks.v1+notebook": {
   "computePreferences": {
    "hardware": {
     "accelerator": null,
     "gpuPoolId": null,
     "memory": null
    }
   },
   "dashboards": [],
   "environmentMetadata": {
    "base_environment": "",
    "dependencies": [
     "sodapy==2.2.0"
    ],
    "environment_version": "2"
   },
   "inputWidgetPreferences": null,
   "language": "python",
   "notebookMetadata": {
    "pythonIndentUnit": 4
   },
   "notebookName": "Descarga ID.ipynb",
   "widgets": {
    "codigo_dataset": {
     "currentValue": "rpmr-utcd",
     "nuid": "80f2dfda-4ba4-4abc-b66f-f389f2c9992b",
     "typedWidgetInfo": {
      "autoCreated": false,
      "defaultValue": "",
      "label": "",
      "name": "codigo_dataset",
      "options": {
       "widgetDisplayType": "Text",
       "validationRegex": null
      },
      "parameterDataType": "String"
     },
     "widgetInfo": {
      "widgetType": "text",
      "defaultValue": "",
      "label": "",
      "name": "codigo_dataset",
      "options": {
       "widgetType": "text",
       "autoCreated": false,
       "validationRegex": null
      }
     }
    },
    "token_app": {
     "currentValue": "KwZhcbkekhw5FpAUWVnzvIdVA",
     "nuid": "cbb1d4c2-1c92-49c0-8ae8-21ad9855c60d",
     "typedWidgetInfo": {
      "autoCreated": false,
      "defaultValue": "",
      "label": "",
      "name": "token_app",
      "options": {
       "widgetDisplayType": "Text",
       "validationRegex": null
      },
      "parameterDataType": "String"
     },
     "widgetInfo": {
      "widgetType": "text",
      "defaultValue": "",
      "label": "",
      "name": "token_app",
      "options": {
       "widgetType": "text",
       "autoCreated": false,
       "validationRegex": null
      }
     }
    }
   }
  },
  "language_info": {
   "name": "python"
  }
 },
 "nbformat": 4,
 "nbformat_minor": 0
}
